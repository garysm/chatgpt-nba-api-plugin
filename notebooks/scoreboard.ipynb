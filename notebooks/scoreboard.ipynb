{
 "cells": [
  {
   "cell_type": "code",
   "execution_count": 1,
   "metadata": {},
   "outputs": [
    {
     "name": "stdout",
     "output_type": "stream",
     "text": [
      "ScoreBoardDate: 2023-05-11\n",
      "0042200216: Celtics vs. 76ers @ 2023-05-11 19:30:00-04:00\n",
      "0042200226: Nuggets vs. Suns @ 2023-05-11 22:00:00-04:00\n"
     ]
    }
   ],
   "source": [
    "# Query nba.live.endpoints.scoreboard and  list games in localTimeZone\n",
    "from datetime import datetime, timezone\n",
    "from dateutil import parser\n",
    "from nba_api.live.nba.endpoints import scoreboard\n",
    "\n",
    "f = \"{gameId}: {awayTeam} vs. {homeTeam} @ {gameTimeLTZ}\" \n",
    "\n",
    "board = scoreboard.ScoreBoard()\n",
    "print(\"ScoreBoardDate: \" + board.score_board_date)\n",
    "games = board.games.get_dict()\n",
    "for game in games:\n",
    "    gameTimeLTZ = parser.parse(game[\"gameTimeUTC\"]).replace(tzinfo=timezone.utc).astimezone(tz=None)\n",
    "    print(f.format(gameId=game['gameId'], awayTeam=game['awayTeam']['teamName'], homeTeam=game['homeTeam']['teamName'], gameTimeLTZ=gameTimeLTZ))\n"
   ]
  }
 ],
 "metadata": {
  "kernelspec": {
   "display_name": "Python 2.7.18 64-bit",
   "language": "python",
   "name": "python3"
  },
  "language_info": {
   "codemirror_mode": {
    "name": "ipython",
    "version": 3
   },
   "file_extension": ".py",
   "mimetype": "text/x-python",
   "name": "python",
   "nbconvert_exporter": "python",
   "pygments_lexer": "ipython3",
   "version": "2.7.18"
  },
  "orig_nbformat": 4,
  "vscode": {
   "interpreter": {
    "hash": "767d51c1340bd893661ea55ea3124f6de3c7a262a8b4abca0554b478b1e2ff90"
   }
  }
 },
 "nbformat": 4,
 "nbformat_minor": 2
}
